{
  "nbformat": 4,
  "nbformat_minor": 0,
  "metadata": {
    "colab": {
      "name": "scrapedURLsUNOTaku.ipynb",
      "provenance": [],
      "authorship_tag": "ABX9TyOTd+8zoTUeI7ZsmWlodbq/",
      "include_colab_link": true
    },
    "kernelspec": {
      "name": "python3",
      "display_name": "Python 3"
    },
    "language_info": {
      "name": "python"
    }
  },
  "cells": [
    {
      "cell_type": "markdown",
      "metadata": {
        "id": "view-in-github",
        "colab_type": "text"
      },
      "source": [
        "<a href=\"https://colab.research.google.com/github/kspohn903/Spohn/blob/master/scrapedURLsUNOTaku.ipynb\" target=\"_parent\"><img src=\"https://colab.research.google.com/assets/colab-badge.svg\" alt=\"Open In Colab\"/></a>"
      ]
    },
    {
      "cell_type": "code",
      "metadata": {
        "id": "3L-ZE3NPF4TK"
      },
      "source": [
        "# List of Required Packages: ---------------------------------------------------\n",
        "# !pip3 install --upgrade bs4\n",
        "# !pip3 install --upgrade selenium\n",
        "# !pip3 install --upgrade requests_html\n",
        "# !pip3 install pandas==1.1.0\n",
        "# !pip3 install --upgrade urllib3\n",
        "# !pip install --upgrade google-cloud\n",
        "# !pip3 install  numpy==1.19.2\n",
        "# !pip3 install  folium==0.2.1\n",
        "# !pip3 install  imgaug==0.2.5\n",
        "\n",
        "#------------------------------------------------------------------------------\n",
        "# Google Mount: ---------------------------------------------------------------\n",
        "\n",
        "# from google.colab import drive, files, auth\n",
        "# drive.mount('/content/drive', force_remount = True) #mounted / forcibly-remounted"
      ],
      "execution_count": null,
      "outputs": []
    },
    {
      "cell_type": "code",
      "metadata": {
        "id": "ZG8xsr-oF6hp"
      },
      "source": [
        "# -*- coding: utf-8 -*-\n",
        "import csv, numpy as np, pandas as pd\n",
        "from bs4 import BeautifulSoup as bs\n",
        "try:\n",
        "    # a to k already scraped...   \n",
        "    alphabet = [\"l\", \"m\", \"n\",\"o\", \"p\", \"q\", \"r\", \"s\", \"t\", \"u\", \"v\", \"w\", \"x\", \"y\",\"z\"]\n",
        "    alphabet = [el.upper() for el in alphabet]\n",
        "    #                 L   M   N   O   P    Q   R    S   T   U   V   W   X   Y  Z\n",
        "    indexMaxValues = [8, 20, 15,  13, 14,  2,  9,  20,  20,  7, 2,  7,  3, 12, 4]\n",
        "    #                 A   B   C   D   E    F   G   H    I    J  K  \n",
        "    #                 19  16  18  18  5    10  16  20   10   7  20\n",
        "    # * No of max page no. subject to change as of Spring, Summer, Fall 2021...\n",
        "    # Append no indices as needed. Use at your own risk...\n",
        "\n",
        "    # file 1: 'webscraper_URLs_UNOTaku_05_2021.csv' \n",
        "    # in theory, for generic scraping with raw_input of dest file for scraping, assumimg .csv file extension, then \n",
        "    \n",
        "    # fileNameURLs = raw_input(\"Enter name of dest. file for scraping titles: \") \n",
        "    # while(type(fileNameURLs) != String): # /*repeat raw_input feed */ \n",
        "    #       fileNameURLs = raw_input(\"Enter name of dest. file for scraping titles: \") \n",
        "    \n",
        "    fileNameURLs = \"webscraper_URLs_Part2_UNOTaku_05_2021.csv\"\n",
        "    csvFileURLs = open(fileNameURLs, mode ='a') # mode = ['w','a','w+']\n",
        "    for i in range(0, len(alphabet), 1): \n",
        "        for j in range(0, int (indexMaxValues[i]), 1):\n",
        "            csvFileURLs.write(\"https://myanimelist.net/anime.php?letter={}&show={}\\n\".format(alphabet[i], 50*j))\n",
        "            print(f\"URL ({i}, {j}) written to file.\\n\")\n",
        "    csvURLTitles.close()\n",
        "    gc.collect()\n",
        "    \n",
        "except IOError: \n",
        "       print(f\"Failure to properly close/read file (IO). Please check stack trace and try again.\\n\")\n",
        "except EOFError:\n",
        "       print(f\"Failure to properly read/parse file properly or has reached EOF.Please check stack trace and try again.\\n\")\n",
        "except IndentationError: \n",
        "       print(f\"Failure to properly indent. Please check stack trace and try again.\\n\")\n",
        "except ImportError: \n",
        "       print(f\"Import has failed. Please check imports and try again.\\n\")\n",
        "except Exception: \n",
        "       print(f\"General Exception has occurred. Please check stack trace and try again.\\n\")\n",
        "except Error: \n",
        "       print(f\"General Error has occurred. Please check stack trace and try again.\\n\")\n",
        "\n",
        "   \n",
        "\n"
      ],
      "execution_count": null,
      "outputs": []
    }
  ]
}